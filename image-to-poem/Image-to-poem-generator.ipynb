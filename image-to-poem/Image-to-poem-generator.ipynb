{
 "cells": [
  {
   "cell_type": "markdown",
   "id": "41fd5c4a-0681-45d6-89ed-e474d01353f0",
   "metadata": {},
   "source": [
    "# Images To Poem : by DTC AI Team"
   ]
  },
  {
   "cell_type": "markdown",
   "id": "76c67f29-8215-4888-8e56-99fac8d36787",
   "metadata": {},
   "source": [
    "#####  Developement of a webapp to generate poems from images leveraging Google’s Multimodal LLM, Gemini Pro Vision and Streamlit.\n",
    "\n"
   ]
  },
  {
   "cell_type": "markdown",
   "id": "ad7537bf-7dd2-458a-9e51-6a3a18f73b36",
   "metadata": {},
   "source": [
    "#### Step01: Get your Gemini API key\n",
    "Visit [https://makersuite.google.com/app/prompts/new_freeform](https://makersuite.google.com/app/prompts/new_freeform). Find and click on button `Get API key` on top left corner. It will navigate to new page as in below snap."
   ]
  },
  {
   "cell_type": "markdown",
   "id": "a4b9b059-36f2-4695-ba79-13c250bcd8e8",
   "metadata": {},
   "source": [
    "![\"API Key Image\"](./images/image03.png)"
   ]
  },
  {
   "cell_type": "markdown",
   "id": "330f4523-37e6-4f12-be12-bd73a0580248",
   "metadata": {},
   "source": [
    "Ckick on `Create API key in new oroject` and generate the key. (Do not expose the API key. It may get expaired)"
   ]
  },
  {
   "cell_type": "markdown",
   "id": "a2babbfa-52cc-4522-9d63-10d4e266946e",
   "metadata": {},
   "source": [
    "#### Step02: Create a `.env` file\n",
    "Create a `.env` file and paste the copied generated API key as `GOOGLE_API_KEY= ‘genetated api key‘` . (The API key can be passeed directly also)"
   ]
  },
  {
   "cell_type": "markdown",
   "id": "f90e403a-6f86-4a75-8042-79fb49923efd",
   "metadata": {},
   "source": [
    "#### Step03 : Create `requirements.txt` file\n",
    "\n",
    "Following libraries need to be specified in `requirement.txt`\n",
    "\n"
   ]
  },
  {
   "cell_type": "markdown",
   "id": "e226935b-6b16-4973-8cb1-d25dec1980f9",
   "metadata": {},
   "source": [
    " ```python\n",
    "'''requirements.txt'''\n",
    " \n",
    "streamlit\n",
    "python-dotenv\n",
    "google-generativeai\n",
    "```"
   ]
  },
  {
   "cell_type": "markdown",
   "id": "b35fe010-3667-47c7-83dc-b08c98a9e030",
   "metadata": {},
   "source": [
    "#### Step04: Install requirements\n",
    "Open terminal and run `pip install -r requirements.txt` . If your IDE is Jupyter notebook or Google Colab, you can run the command in the cell itself as `!pip install -r requirements.txt` ."
   ]
  },
  {
   "cell_type": "code",
   "execution_count": 28,
   "id": "7d3ff651-5752-4634-b5ee-e4a8652fa657",
   "metadata": {
    "scrolled": true
   },
   "outputs": [],
   "source": [
    "#!pip install -r ./image-to-poem/requirements.txt"
   ]
  },
  {
   "cell_type": "markdown",
   "id": "7210bd97-b5f3-458f-a2bf-6b6aedaf567a",
   "metadata": {},
   "source": [
    "#### Step05: Prepare script\n",
    "Import libraries:"
   ]
  },
  {
   "cell_type": "code",
   "execution_count": 12,
   "id": "32ba95f6-026e-4e2e-9b18-14264afcdee0",
   "metadata": {},
   "outputs": [],
   "source": [
    "#import genai module to access models\n",
    "\n",
    "import google.generativeai as genai\n",
    "\n",
    "#import load_dotenv to load environment variables from .env file\n",
    "from dotenv import load_dotenv\n",
    "\n",
    "#load environment varibles (GOOGLE_API_KEY)\n",
    "load_dotenv() \n",
    "\n",
    "import streamlit as st\n",
    "\n",
    "# Import from PIL Image to load the image to generate content\n",
    "from PIL import Image\n",
    "import os"
   ]
  },
  {
   "cell_type": "markdown",
   "id": "6a581fed-2ee3-4b64-9529-066b0b863d95",
   "metadata": {},
   "source": [
    "#### Step06: Configure the generative model\n"
   ]
  },
  {
   "cell_type": "code",
   "execution_count": 13,
   "id": "7eca464b-6b04-460f-8c70-d57e8d32ea6a",
   "metadata": {},
   "outputs": [],
   "source": [
    "genai.configure(api_key = os.getenv(\"GOOGLE_API_KEY\"))\n",
    "visionModel = genai.GenerativeModel('gemini-pro-vision')"
   ]
  },
  {
   "cell_type": "markdown",
   "id": "e6078836-5f38-4354-a327-29dbb1686caf",
   "metadata": {},
   "source": [
    "#### Step7: Define a function to generate and extarct content\n"
   ]
  },
  {
   "cell_type": "code",
   "execution_count": 14,
   "id": "2048c05b-f00e-4fa2-bfe1-b3107889f239",
   "metadata": {},
   "outputs": [],
   "source": [
    "def geminiResponse(prompt, image):\n",
    "    response = visionModel.generate_content([prompt, image])\n",
    "    return response.text"
   ]
  },
  {
   "cell_type": "markdown",
   "id": "35189fa9-8157-40fd-8017-3ec279fea456",
   "metadata": {},
   "source": [
    "Note: `prompt` is the string passed to the model specifying what  task it has to do.\n",
    "\n"
   ]
  },
  {
   "cell_type": "markdown",
   "id": "3ebb4159-4236-4a02-8e39-edc1ee484a5e",
   "metadata": {},
   "source": [
    "Step08: Set up streamlit page\n"
   ]
  },
  {
   "cell_type": "code",
   "execution_count": 22,
   "id": "10aabcc6-1cad-415d-a3ee-b8e77c6aba36",
   "metadata": {},
   "outputs": [
    {
     "name": "stderr",
     "output_type": "stream",
     "text": [
      "2024-02-16 09:00:12.874 \n",
      "  \u001b[33m\u001b[1mWarning:\u001b[0m to view this Streamlit app on a browser, run it with the following\n",
      "  command:\n",
      "\n",
      "    streamlit run /Volumes/data/GeminiAPI/venv/lib/python3.11/site-packages/ipykernel_launcher.py [ARGUMENTS]\n"
     ]
    }
   ],
   "source": [
    "import streamlit as st\n",
    "from PIL import Image\n",
    "\n",
    "# Title for webapp\n",
    "st.title('DTC Poem Generator')\n",
    "\n",
    "# Upload Image\n",
    "image_uploaded = st.file_uploader(\"Upload image to generate its poem...\")\n",
    "\n",
    "# Process and display image only if uploaded\n",
    "if image_uploaded is not None:\n",
    "    image = Image.open(image_uploaded)\n",
    "    st.image(image, caption=\"Image for which to generate poem\", use_column_width=True)\n",
    "\n",
    "# Add a click button to generate the content\n",
    "generate = st.button(\"Generate Poem\")\n"
   ]
  },
  {
   "cell_type": "markdown",
   "id": "49e897dd-3124-4d48-b091-05e5bad2a486",
   "metadata": {},
   "source": [
    "##### Prepare prompt:\n",
    "\n",
    ">The quality of the model response relies on how refined the prompt is. It can be instructed to generate any content from the image such as description, poem, story, summary etc. with proper refined prompt.\n",
    "\n"
   ]
  },
  {
   "cell_type": "code",
   "execution_count": 29,
   "id": "c4b49897-2ea4-4844-86fc-a61966d88937",
   "metadata": {},
   "outputs": [],
   "source": [
    "#write a prompt as per your requirement\n",
    "prompt = '''You are an experienced, world class poet. \n",
    "I will upload an image and based on the uploaded imge, \n",
    "you have to generate a poem.'''"
   ]
  },
  {
   "cell_type": "markdown",
   "id": "597bb8a7-8ed9-48f1-af8b-81e0e1dd2534",
   "metadata": {},
   "source": [
    "#### Display content:\n",
    "\n",
    "Once the Image is uploaded and generate button is clicked, the response will be displayed in the webapp with the help of below code.\n",
    "\n"
   ]
  },
  {
   "cell_type": "code",
   "execution_count": 30,
   "id": "0f46d198-6d94-4c59-b5fb-9ba0197abc0e",
   "metadata": {},
   "outputs": [
    {
     "ename": "NameError",
     "evalue": "name 'submit' is not defined",
     "output_type": "error",
     "traceback": [
      "\u001b[0;31m---------------------------------------------------------------------------\u001b[0m",
      "\u001b[0;31mNameError\u001b[0m                                 Traceback (most recent call last)",
      "Cell \u001b[0;32mIn[30], line 1\u001b[0m\n\u001b[0;32m----> 1\u001b[0m \u001b[38;5;28;01mif\u001b[39;00m \u001b[43msubmit\u001b[49m:\n\u001b[1;32m      2\u001b[0m \u001b[38;5;66;03m#get response from the model\u001b[39;00m\n\u001b[1;32m      3\u001b[0m     response \u001b[38;5;241m=\u001b[39m geminiResponse(image,prompt)\n\u001b[1;32m      4\u001b[0m \u001b[38;5;66;03m#write text content on web page\u001b[39;00m\n",
      "\u001b[0;31mNameError\u001b[0m: name 'submit' is not defined"
     ]
    }
   ],
   "source": [
    "if submit:\n",
    "#get response from the model\n",
    "    response = geminiResponse(image,prompt)\n",
    "#write text content on web page\n",
    "    st.write(response)"
   ]
  },
  {
   "cell_type": "markdown",
   "id": "ee994e05-f9f0-4621-a775-8f63d0aa0e09",
   "metadata": {},
   "source": [
    "#### Step09: Wrap the codes and deploy the App\n",
    "Full code (Omitting comments): The file extension should be .py .\n",
    "\n"
   ]
  },
  {
   "cell_type": "markdown",
   "id": "1b63c59e-36a3-4005-9c85-a846cffe1753",
   "metadata": {},
   "source": [
    "```python\n",
    "'''app.py'''\n",
    "\n",
    "import google.generativeai as genai\n",
    "import streamlit as st\n",
    "from PIL import Image\n",
    "import os\n",
    "from dotenv import load_dotenv\n",
    "load_dotenv()\n",
    "\n",
    "genai.configure(api_key = os.getenv(\"GOOGLE_API_KEY\"))\n",
    "visionModel = genai.GenerativeModel('gemini-pro-vision')\n",
    "\n",
    "def geniniResponse(prompt, image):\n",
    "    response = visionModel.generate_content([prompt, image])\n",
    "    return response.text\n",
    "\n",
    "st.title('Gemini Poem Generator')\n",
    "imageUploaded = st.file_uploader(\"Upload image to generate it's poem...\")\n",
    "#image = '' \n",
    "\n",
    "if imageUploaded is not None:\n",
    "    image = Image.open(imageUploaded)\n",
    "    st.image(image,caption=\"Image for which to generate poem\",use_column_width=True)\n",
    "generate = st.button(\"Generate content\")\n",
    "\n",
    "prompt1 = '''You a veteran  poet. I will upload an image \n",
    "and based on the uploaded imge, you have to generate a  poem in English'''\n",
    "\n",
    "prompt2 = '''You are an experienced,  world class poet. \n",
    "I will upload an image and based on the uploaded imge, \n",
    "you have to generate a  poem.'''\n",
    "\n",
    "if generate:\n",
    "    response = geminiResponse(image,prompt2)\n",
    "    st.write(response)\n",
    "```    \n"
   ]
  },
  {
   "cell_type": "markdown",
   "id": "4b74a960-66df-4ea0-9df1-0c9276334711",
   "metadata": {},
   "source": [
    "#### Deploy the App:\n",
    "\n",
    "Run the `app.py` and make sure that it is error free. Go to teminal and `run streamlit run app.py` . In conda enviroment run the same command in powershell from where the file is saved. It will redirect to the streamlit app in your default browser as shown below."
   ]
  },
  {
   "cell_type": "markdown",
   "id": "759301c7-cc50-4667-ad9f-971659fd121a",
   "metadata": {},
   "source": [
    "![\"output image\"](./images/image01.png)"
   ]
  },
  {
   "cell_type": "code",
   "execution_count": null,
   "id": "b1bd6d9d-c733-41b3-86e3-e64a12074edf",
   "metadata": {},
   "outputs": [],
   "source": []
  }
 ],
 "metadata": {
  "kernelspec": {
   "display_name": "Python 3 (ipykernel)",
   "language": "python",
   "name": "python3"
  },
  "language_info": {
   "codemirror_mode": {
    "name": "ipython",
    "version": 3
   },
   "file_extension": ".py",
   "mimetype": "text/x-python",
   "name": "python",
   "nbconvert_exporter": "python",
   "pygments_lexer": "ipython3",
   "version": "3.11.7"
  }
 },
 "nbformat": 4,
 "nbformat_minor": 5
}
